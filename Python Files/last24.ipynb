{
 "cells": [
  {
   "cell_type": "code",
   "execution_count": 1,
   "metadata": {},
   "outputs": [
    {
     "name": "stdout",
     "output_type": "stream",
     "text": [
      "Forecasts saved to CSVs for day 30.\n"
     ]
    }
   ],
   "source": [
    "import numpy as np\n",
    "import pandas as pd\n",
    "from sklearn.preprocessing import MinMaxScaler\n",
    "import torch\n",
    "import torch.nn as nn\n",
    "\n",
    "# Define LSTM Model (same as training)\n",
    "class LSTMModel(nn.Module):\n",
    "    def __init__(self, input_dim=1, hidden_dim=50, num_layers=1, output_dim=1):\n",
    "        super().__init__()\n",
    "        self.hidden_dim = hidden_dim\n",
    "        self.num_layers = num_layers\n",
    "        self.lstm = nn.LSTM(input_dim, hidden_dim, num_layers, batch_first=True)\n",
    "        self.fc = nn.Linear(hidden_dim, output_dim)\n",
    "\n",
    "    def forward(self, x):\n",
    "        h0 = torch.zeros(self.num_layers, x.size(0), self.hidden_dim)\n",
    "        c0 = torch.zeros(self.num_layers, x.size(0), self.hidden_dim)\n",
    "        out, _ = self.lstm(x, (h0, c0))\n",
    "        out = self.fc(out[:, -1, :])  # Last time step\n",
    "        return out\n",
    "\n",
    "# Function to load model and make rolling predictions\n",
    "def rolling_forecast(model_path, past_data, scaler, seq_length=24, horizon=24):\n",
    "    model = LSTMModel()\n",
    "    model.load_state_dict(torch.load(model_path))\n",
    "    model.eval()\n",
    "\n",
    "    # Normalize past data\n",
    "    scaled_past = scaler.transform(past_data.reshape(-1, 1))\n",
    "\n",
    "    forecast = []\n",
    "    current_seq = scaled_past[-seq_length:].reshape(1, seq_length, 1)\n",
    "\n",
    "    with torch.no_grad():\n",
    "        for _ in range(horizon):\n",
    "            input_tensor = torch.tensor(current_seq, dtype=torch.float32)\n",
    "            pred = model(input_tensor).numpy()[0][0]\n",
    "            forecast.append(pred)\n",
    "            # Append prediction to sequence (shift window)\n",
    "            current_seq = np.append(current_seq[:, 1:, :], [[[pred]]], axis=1)\n",
    "\n",
    "    # Inverse transform\n",
    "    forecast = scaler.inverse_transform(np.array(forecast).reshape(-1, 1))\n",
    "    return forecast.flatten()\n",
    "\n",
    "# Load solar data\n",
    "df_solar = pd.read_csv('synthetic_solar.csv')\n",
    "solar_data = df_solar['solar'].values\n",
    "\n",
    "# Load load data\n",
    "df_load = pd.read_csv('synthetic_load.csv')\n",
    "load_data = df_load['load'].values\n",
    "\n",
    "# Scalers (re-fit for consistency; in practice, save during training)\n",
    "solar_scaler = MinMaxScaler().fit(solar_data.reshape(-1, 1))\n",
    "load_scaler = MinMaxScaler().fit(load_data.reshape(-1, 1))\n",
    "\n",
    "# Select past 24 hours before day 30 (indices 672:695; 0-based)\n",
    "past_solar = solar_data[672:696]\n",
    "past_load = load_data[672:696]\n",
    "\n",
    "# Generate forecasts\n",
    "solar_forecast = rolling_forecast('solar_lstm.pth', past_solar, solar_scaler)\n",
    "load_forecast = rolling_forecast('load_lstm.pth', past_load, load_scaler)\n",
    "\n",
    "# Save to CSV for MATLAB import\n",
    "pd.DataFrame({'solar_forecast': solar_forecast}).to_csv('solar_forecast_day30.csv', index=False)\n",
    "pd.DataFrame({'load_forecast': load_forecast}).to_csv('load_forecast_day30.csv', index=False)\n",
    "\n",
    "print(\"Forecasts saved to CSVs for day 30.\")"
   ]
  }
 ],
 "metadata": {
  "kernelspec": {
   "display_name": "intro-ml",
   "language": "python",
   "name": "python3"
  },
  "language_info": {
   "codemirror_mode": {
    "name": "ipython",
    "version": 3
   },
   "file_extension": ".py",
   "mimetype": "text/x-python",
   "name": "python",
   "nbconvert_exporter": "python",
   "pygments_lexer": "ipython3",
   "version": "3.11.8"
  }
 },
 "nbformat": 4,
 "nbformat_minor": 2
}
